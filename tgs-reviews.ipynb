{
 "cells": [
  {
   "cell_type": "code",
   "execution_count": 4,
   "id": "730d2438-7c33-4ecc-9b27-b3ac188e842e",
   "metadata": {},
   "outputs": [
    {
     "name": "stdout",
     "output_type": "stream",
     "text": [
      "Confusion Matrix:\n",
      " [[ 1  1]\n",
      " [ 3 10]]\n",
      "\n",
      "Classification Report:\n",
      "               precision    recall  f1-score   support\n",
      "\n",
      "           0       0.25      0.50      0.33         2\n",
      "           1       0.91      0.77      0.83        13\n",
      "\n",
      "    accuracy                           0.73        15\n",
      "   macro avg       0.58      0.63      0.58        15\n",
      "weighted avg       0.82      0.73      0.77        15\n",
      "\n"
     ]
    }
   ],
   "source": [
    "import pandas as pd\n",
    "from sklearn.model_selection import train_test_split\n",
    "from sklearn.naive_bayes import GaussianNB\n",
    "from sklearn.metrics import classification_report, confusion_matrix\n",
    "\n",
    "# Baca file CSV, deteksi otomatis delimiter, lewati baris rusak\n",
    "df = pd.read_csv(\"reviews.csv\", sep=None, engine=\"python\", on_bad_lines='skip')\n",
    "\n",
    "# Bersihkan kolom angka: hilangkan koma, ubah ke numerik\n",
    "df[\"rating_count\"] = df[\"rating_count\"].str.replace(\",\", \"\").astype(float)\n",
    "df[\"rating\"] = df[\"rating\"].astype(float)\n",
    "\n",
    "# Buat label sentimen: rating >= 4 positif (1), lainnya negatif (0)\n",
    "df[\"label\"] = df[\"rating\"].apply(lambda x: 1 if x >= 4 else 0)\n",
    "\n",
    "# Fitur dan label\n",
    "X = df[[\"rating_count\"]]\n",
    "y = df[\"label\"]\n",
    "\n",
    "# Split data\n",
    "X_train, X_test, y_train, y_test = train_test_split(X, y, test_size=0.3, random_state=42)\n",
    "\n",
    "# Latih model\n",
    "model = GaussianNB()\n",
    "model.fit(X_train, y_train)\n",
    "\n",
    "# Prediksi dan evaluasi\n",
    "y_pred = model.predict(X_test)\n",
    "print(\"Confusion Matrix:\\n\", confusion_matrix(y_test, y_pred))\n",
    "print(\"\\nClassification Report:\\n\", classification_report(y_test, y_pred, zero_division=0))\n"
   ]
  },
  {
   "cell_type": "code",
   "execution_count": null,
   "id": "0aa06ccc-7286-4527-96a2-df784a631c99",
   "metadata": {},
   "outputs": [],
   "source": []
  }
 ],
 "metadata": {
  "kernelspec": {
   "display_name": "Python 3 (ipykernel)",
   "language": "python",
   "name": "python3"
  },
  "language_info": {
   "codemirror_mode": {
    "name": "ipython",
    "version": 3
   },
   "file_extension": ".py",
   "mimetype": "text/x-python",
   "name": "python",
   "nbconvert_exporter": "python",
   "pygments_lexer": "ipython3",
   "version": "3.12.6"
  }
 },
 "nbformat": 4,
 "nbformat_minor": 5
}
