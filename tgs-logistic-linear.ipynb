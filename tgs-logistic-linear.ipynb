{
 "cells": [
  {
   "cell_type": "code",
   "execution_count": 1,
   "id": "b7f33394-e78d-45e4-9ae9-365f380e7571",
   "metadata": {},
   "outputs": [],
   "source": [
    "import numpy as np # linear algebra\n",
    "import pandas as pd # data processing, CSV file I/O (e.g. pd.read_csv)\n",
    "import matplotlib.pyplot as plt # data visualization\n",
    "import seaborn as sns # statistical data visualization\n",
    "%matplotlib inline\n",
    "\n",
    "# Input data files are available in the \"../input/\" directory.\n",
    "# For example, running this (by clicking run or pressing Shift+Enter) will list all files under the input directory\n",
    "\n",
    "import os\n",
    "for dirname, _, filenames in os.walk('/kaggle/input'):\n",
    "    for filename in filenames:\n",
    "        print(os.path.join(dirname, filename))\n",
    "\n",
    "# Any results you write to the current directory are saved as output."
   ]
  },
  {
   "cell_type": "code",
   "execution_count": 2,
   "id": "6dcfbecd-ddea-4a8f-8aa3-bb07fefb8ade",
   "metadata": {},
   "outputs": [],
   "source": [
    "import warnings\n",
    "\n",
    "warnings.filterwarnings('ignore')"
   ]
  },
  {
   "cell_type": "code",
   "execution_count": 3,
   "id": "26e3278a-d994-4997-bb15-bc879c46fc3d",
   "metadata": {},
   "outputs": [],
   "source": [
    "data = r'C:\\Users\\user\\weatherAUS.csv'\n",
    "df = pd.read_csv(data)"
   ]
  },
  {
   "cell_type": "code",
   "execution_count": 4,
   "id": "2152b809-9ffa-4b96-8278-a55ef34d6681",
   "metadata": {},
   "outputs": [
    {
     "name": "stdout",
     "output_type": "stream",
     "text": [
      "Sampel Data:\n",
      "          X    Y\n",
      "0  3.745401  0.0\n",
      "1  9.507143  1.0\n",
      "2  7.319939  1.0\n",
      "3  5.986585  1.0\n",
      "4  1.560186  0.0\n"
     ]
    },
    {
     "ename": "NameError",
     "evalue": "name 'train_test_split' is not defined",
     "output_type": "error",
     "traceback": [
      "\u001b[1;31m---------------------------------------------------------------------------\u001b[0m",
      "\u001b[1;31mNameError\u001b[0m                                 Traceback (most recent call last)",
      "Cell \u001b[1;32mIn[4], line 13\u001b[0m\n\u001b[0;32m     10\u001b[0m \u001b[38;5;28mprint\u001b[39m(pd\u001b[38;5;241m.\u001b[39mDataFrame(np\u001b[38;5;241m.\u001b[39mhstack((X, Y\u001b[38;5;241m.\u001b[39mreshape(\u001b[38;5;241m-\u001b[39m\u001b[38;5;241m1\u001b[39m, \u001b[38;5;241m1\u001b[39m))), columns\u001b[38;5;241m=\u001b[39m[\u001b[38;5;124m\"\u001b[39m\u001b[38;5;124mX\u001b[39m\u001b[38;5;124m\"\u001b[39m, \u001b[38;5;124m\"\u001b[39m\u001b[38;5;124mY\u001b[39m\u001b[38;5;124m\"\u001b[39m])\u001b[38;5;241m.\u001b[39mhead())\n\u001b[0;32m     12\u001b[0m \u001b[38;5;66;03m# 2. Membagi dataset menjadi training dan testing\u001b[39;00m\n\u001b[1;32m---> 13\u001b[0m X_train, X_test, Y_train, Y_test \u001b[38;5;241m=\u001b[39m \u001b[43mtrain_test_split\u001b[49m(\n\u001b[0;32m     14\u001b[0m     X, Y, test_size\u001b[38;5;241m=\u001b[39m\u001b[38;5;241m0.2\u001b[39m, random_state\u001b[38;5;241m=\u001b[39m\u001b[38;5;241m42\u001b[39m\n\u001b[0;32m     15\u001b[0m )\n\u001b[0;32m     17\u001b[0m \u001b[38;5;66;03m# 3. Membuat model Logistic Regression\u001b[39;00m\n\u001b[0;32m     18\u001b[0m model \u001b[38;5;241m=\u001b[39m LogisticRegression()\n",
      "\u001b[1;31mNameError\u001b[0m: name 'train_test_split' is not defined"
     ]
    }
   ],
   "source": [
    "# 1. Membuat dataset sederhana\n",
    "np.random.seed(42)\n",
    "X = np.random.rand(100, 1) * 10  # Variabel independen (X)\n",
    "Y = (\n",
    "    (X > 5).astype(int).ravel()\n",
    ")  # Label biner (0 atau 1), jika X > 5 maka 1, jika tidak maka 0\n",
    "\n",
    "# Menampilkan beberapa sampel data\n",
    "print(\"Sampel Data:\")\n",
    "print(pd.DataFrame(np.hstack((X, Y.reshape(-1, 1))), columns=[\"X\", \"Y\"]).head())\n",
    "\n",
    "# 2. Membagi dataset menjadi training dan testing\n",
    "X_train, X_test, Y_train, Y_test = train_test_split(\n",
    "    X, Y, test_size=0.2, random_state=42\n",
    ")\n",
    "\n",
    "# 3. Membuat model Logistic Regression\n",
    "model = LogisticRegression()\n",
    "model.fit(X_train, Y_train)\n",
    "\n",
    "# 4. Melihat hasil model\n",
    "print(\"\\nHasil Training Model:\")\n",
    "print(f\"Intercept (b0): {model.intercept_[0]:.2f}\")\n",
    "print(f\"Koefisien (b1): {model.coef_[0][0]:.2f}\")\n",
    "\n",
    "# 5. Prediksi pada data uji\n",
    "Y_pred = model.predict(X_test)\n",
    "\n",
    "# 6. Evaluasi model\n",
    "accuracy = accuracy_score(Y_test, Y_pred)\n",
    "print(\"\\nEvaluasi Model:\")\n",
    "print(f\"Accuracy: {accuracy:.2f}\")\n",
    "print(classification_report(Y_test, Y_pred))\n",
    "\n",
    "# 7. Visualisasi hasil klasifikasi\n",
    "plt.scatter(X_test, Y_test, color=\"blue\", label=\"Actual Data\")\n",
    "plt.scatter(X_test, Y_pred, color=\"red\", marker=\"x\", label=\"Predicted\")\n",
    "plt.xlabel(\"X\")\n",
    "plt.ylabel(\"Class\")\n",
    "plt.legend()\n",
    "plt.title(\"Hasil Logistic Regression\")\n",
    "plt.show()\n",
    "\n",
    "# Simpan model ke dalam file menggunakan pickle\n",
    "import pickle\n",
    "\n",
    "with open(\"models/logistic_model.pkl\", \"wb\") as file:\n",
    "    pickle.dump(model, file)\n",
    "\n",
    "print(\"Model berhasil disimpan sebagai 'logistic_model.pkl'\")"
   ]
  }
 ],
 "metadata": {
  "kernelspec": {
   "display_name": "Python 3 (ipykernel)",
   "language": "python",
   "name": "python3"
  },
  "language_info": {
   "codemirror_mode": {
    "name": "ipython",
    "version": 3
   },
   "file_extension": ".py",
   "mimetype": "text/x-python",
   "name": "python",
   "nbconvert_exporter": "python",
   "pygments_lexer": "ipython3",
   "version": "3.12.6"
  }
 },
 "nbformat": 4,
 "nbformat_minor": 5
}
